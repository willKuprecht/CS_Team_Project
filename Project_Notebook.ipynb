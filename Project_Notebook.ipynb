{
 "cells": [
  {
   "cell_type": "markdown",
   "id": "d0fe2d13",
   "metadata": {},
   "source": [
    "### Fundamentals and Methods of Computer Science for Business Studies\n",
    "\n",
    "# Project [project_title] (Group [group_number])"
   ]
  },
  {
   "cell_type": "markdown",
   "id": "7a222b9c",
   "metadata": {},
   "source": [
    "Please read this carefully.\n",
    "\n",
    "This notebook is what you will use for the creation of your favourite project of the semester! Its structure is the following:\n",
    "1. **Installation of Streamlit**: do not modify it.\n",
    "2. **Streamlit app project development**: You will develop your project here.\n",
    "3. **Project launch on Streamlit**: this part will allow you to launch your previously developed project on Streamlit. Do not modify this part and make sure to follow the guidelines explained in that section.\n",
    "4. **Example**\n",
    "\n",
    "For this project, you will use the knowledge and libraries learnt over the course of the semester. You will also use the **streamlit** library (more about Streamlit here https://streamlit.io/), so check out their documentation and cheatsheet https://docs.streamlit.io/library/cheatsheet!"
   ]
  },
  {
   "cell_type": "markdown",
   "id": "493ae19f",
   "metadata": {},
   "source": [
    "## 1. Installation of Streamlit\n",
    "\n",
    "Do not modify this section"
   ]
  },
  {
   "cell_type": "code",
   "execution_count": 1,
   "id": "27390bce",
   "metadata": {},
   "outputs": [],
   "source": [
    "!pip install -q streamlit"
   ]
  },
  {
   "cell_type": "code",
   "execution_count": 2,
   "id": "73b972b0",
   "metadata": {},
   "outputs": [],
   "source": [
    "!pip install -q pandas\n",
    "!pip install -q numpy\n",
    "!pip install -q matplotlib"
   ]
  },
  {
   "cell_type": "markdown",
   "id": "d6a492b0",
   "metadata": {},
   "source": [
    "## 2. App project development\n",
    "\n",
    "Code your project in this section. \n",
    "\n",
    "You can do it in several code cells at first (it could help to have an overview of the components of your app). However, in order to see your app on Streamlit, you must have all your code in one cell with `%%writefile app.py` in the very first line of the code cell. "
   ]
  },
  {
   "cell_type": "code",
   "execution_count": 3,
   "id": "b419d1ea",
   "metadata": {},
   "outputs": [
    {
     "name": "stderr",
     "output_type": "stream",
     "text": [
      "UsageError: Line magic function `%%writefile` not found.\n"
     ]
    }
   ],
   "source": [
    "# This creates a file named app.py. Every time you run this cell, the previous app.py file is overwritten. \n",
    "# This is required for Streamlit to work properly.\n",
    "%%writefile app.py\n",
    "# DO NOT MODIFY THE COMMAND ABOVE!\n",
    "\n",
    "\n",
    "### Add your code here:\n",
    "\n",
    "\n",
    "\n",
    "### End of your code"
   ]
  },
  {
   "cell_type": "markdown",
   "id": "200b7e26",
   "metadata": {},
   "source": [
    "## 3. Run your app in Streamlit!\n",
    "\n",
    "Do not modify this section.\n",
    "\n",
    "There are 2 possibilities, depending on whether you are working on Anaconda (therefore in a Jupyter notebook) or on Google Colab. The following code cells correspond to each possibility.\n",
    "\n",
    "Do not hesitate to ask questions if you have issues !"
   ]
  },
  {
   "cell_type": "code",
   "execution_count": null,
   "id": "3c324006",
   "metadata": {},
   "outputs": [],
   "source": [
    "# Anaconda & Jupyter notebook : run streamlit in the browser\n",
    "!streamlit run app.py"
   ]
  },
  {
   "cell_type": "markdown",
   "id": "2658403c",
   "metadata": {},
   "source": [
    "**The following is only designed for Colab!**\n",
    "\n",
    "The command below will install a localtunnel, so you can access your app from outside colab. You will need to run this command everytime you restart your runtime."
   ]
  },
  {
   "cell_type": "code",
   "execution_count": null,
   "id": "13604b3c",
   "metadata": {},
   "outputs": [],
   "source": [
    "# Colab: first, installation of a local tunnel (run this cell only if you are in Google Colab)\n",
    "\n",
    "!npm install localtunnel"
   ]
  },
  {
   "cell_type": "markdown",
   "id": "9204c7f4",
   "metadata": {},
   "source": [
    "The command below will run streamlit in the background and expose the app through a public URL. The output will look like this:\n",
    "\n",
    "```bash\n",
    "npx: installed 22 in 1.388s\n",
    "\n",
    "  You can now view your Streamlit app in your browser.\n",
    "\n",
    "  Network URL: http://172.28.0.12:8501\n",
    "  External URL: http://35.234.174.59:8501\n",
    "\n",
    "your url is: https://chatty-candles-kneel.loca.lt\n",
    "```\n",
    "\n",
    "You can then open the `url` (in this example `https://chatty-candles-kneel.loca.lt`) in a new tab and see your app running. The site may ask you to provide the public ip address of the host before you can access the app, which you can find in the output under `External URL`. Copy the IP address only (in this example `35.234.174.59`) and paste it into the input field on the site."
   ]
  },
  {
   "cell_type": "code",
   "execution_count": null,
   "id": "a53b522a",
   "metadata": {},
   "outputs": [],
   "source": [
    "# Colab: run streamlit (run this cell only if you are in Google Colab)\n",
    "\n",
    "!streamlit run app.py & npx localtunnel --port 8501"
   ]
  }
 ],
 "metadata": {
  "kernelspec": {
   "display_name": "Python 3 (ipykernel)",
   "language": "python",
   "name": "python3"
  },
  "language_info": {
   "codemirror_mode": {
    "name": "ipython",
    "version": 3
   },
   "file_extension": ".py",
   "mimetype": "text/x-python",
   "name": "python",
   "nbconvert_exporter": "python",
   "pygments_lexer": "ipython3",
   "version": "3.11.6"
  }
 },
 "nbformat": 4,
 "nbformat_minor": 5
}
